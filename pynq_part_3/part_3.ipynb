{
 "cells": [
  {
   "cell_type": "code",
   "execution_count": 1,
   "id": "d17df6d1",
   "metadata": {},
   "outputs": [
    {
     "data": {
      "application/javascript": [
       "\n",
       "try {\n",
       "require(['notebook/js/codecell'], function(codecell) {\n",
       "  codecell.CodeCell.options_default.highlight_modes[\n",
       "      'magic_text/x-csrc'] = {'reg':[/^%%microblaze/]};\n",
       "  Jupyter.notebook.events.one('kernel_ready.Kernel', function(){\n",
       "      Jupyter.notebook.get_cells().map(function(cell){\n",
       "          if (cell.cell_type == 'code'){ cell.auto_highlight(); } }) ;\n",
       "  });\n",
       "});\n",
       "} catch (e) {};\n"
      ]
     },
     "metadata": {},
     "output_type": "display_data"
    },
    {
     "data": {
      "application/javascript": [
       "\n",
       "try {\n",
       "require(['notebook/js/codecell'], function(codecell) {\n",
       "  codecell.CodeCell.options_default.highlight_modes[\n",
       "      'magic_text/x-csrc'] = {'reg':[/^%%pybind11/]};\n",
       "  Jupyter.notebook.events.one('kernel_ready.Kernel', function(){\n",
       "      Jupyter.notebook.get_cells().map(function(cell){\n",
       "          if (cell.cell_type == 'code'){ cell.auto_highlight(); } }) ;\n",
       "  });\n",
       "});\n",
       "} catch (e) {};\n"
      ]
     },
     "metadata": {},
     "output_type": "display_data"
    }
   ],
   "source": [
    "from pynq import Overlay\n",
    "from pynq import MMIO\n",
    "import numpy as np\n",
    "\n",
    "# Program bitstream to FPGA\n",
    "overlay = Overlay('/home/xilinx/design_1.bit')\n",
    "\n",
    "# Access to memory map of the AXI GPIO 0\n",
    "GPIO0_ADDR_BASE = 0x41200000\n",
    "GPIO0_ADDR_RANGE = 0x10000\n",
    "gpio0_obj = MMIO(GPIO0_ADDR_BASE, GPIO0_ADDR_RANGE)\n",
    "\n",
    "# Access to memory map of the BRAM 0\n",
    "BRAM0_ADDR_BASE = 0x40000000\n",
    "BRAM0_ADDR_RANGE = 0x2000\n",
    "bram0_obj = MMIO(BRAM0_ADDR_BASE, BRAM0_ADDR_RANGE)\n",
    "\n",
    "# Access to memory map of the BRAM 1\n",
    "BRAM1_ADDR_BASE = 0x42000000\n",
    "BRAM1_ADDR_RANGE = 0x2000\n",
    "bram1_obj = MMIO(BRAM1_ADDR_BASE, BRAM1_ADDR_RANGE)"
   ]
  },
  {
   "cell_type": "code",
   "execution_count": 2,
   "id": "dc6343e7",
   "metadata": {},
   "outputs": [],
   "source": [
    "# Input array\n",
    "input_data = np.zeros((8,), dtype=np.uint32)"
   ]
  },
  {
   "cell_type": "code",
   "execution_count": 3,
   "id": "69e6e481",
   "metadata": {},
   "outputs": [],
   "source": [
    "# Write input to array\n",
    "for i in range(8):\n",
    "    a = i + 1\n",
    "    b = 8 - i\n",
    "    y = i + 1\n",
    "    input_data[i] = (y << 16) | (b << 8) | a"
   ]
  },
  {
   "cell_type": "code",
   "execution_count": 4,
   "id": "dec968e4",
   "metadata": {},
   "outputs": [],
   "source": [
    "# Write array to BRAM 0\n",
    "j = 0;\n",
    "for i in range(0,8*4,4):\n",
    "    bram0_obj.write(i, int(input_data[j]))\n",
    "    j += 1"
   ]
  },
  {
   "cell_type": "code",
   "execution_count": 5,
   "id": "24d504fc",
   "metadata": {},
   "outputs": [
    {
     "name": "stdout",
     "output_type": "stream",
     "text": [
      "0x00010801\n",
      "0x00020702\n",
      "0x00030603\n",
      "0x00040504\n",
      "0x00050405\n",
      "0x00060306\n",
      "0x00070207\n",
      "0x00080108\n"
     ]
    }
   ],
   "source": [
    "# Check BRAM 0\n",
    "for i in range(0,8*4,4):\n",
    "    print(\"0x%08X\" % (bram0_obj.read(i)))"
   ]
  },
  {
   "cell_type": "code",
   "execution_count": 6,
   "id": "dfe4f505",
   "metadata": {},
   "outputs": [],
   "source": [
    "gpio0_obj.write(0, 1)\n",
    "gpio0_obj.write(0, 0)\n",
    "while (gpio0_obj.read(8) == 0):\n",
    "    pass"
   ]
  },
  {
   "cell_type": "code",
   "execution_count": 7,
   "id": "f4f8a8de",
   "metadata": {},
   "outputs": [],
   "source": [
    "# Output array\n",
    "output_data = np.zeros((8,), dtype=np.uint32)"
   ]
  },
  {
   "cell_type": "code",
   "execution_count": 8,
   "id": "1ead6cc8",
   "metadata": {},
   "outputs": [],
   "source": [
    "# Read BRAM 1 to array\n",
    "j = 0;\n",
    "for i in range(0,8*4,4):\n",
    "    output_data[j] = bram1_obj.read(i)\n",
    "    j += 1"
   ]
  },
  {
   "cell_type": "code",
   "execution_count": 9,
   "id": "69b4e3cf",
   "metadata": {},
   "outputs": [
    {
     "name": "stdout",
     "output_type": "stream",
     "text": [
      "9\n",
      "16\n",
      "21\n",
      "24\n",
      "25\n",
      "24\n",
      "21\n",
      "16\n"
     ]
    }
   ],
   "source": [
    "# Check output array\n",
    "for i in range(8):\n",
    "    print(\"%d\" % output_data[i])"
   ]
  },
  {
   "cell_type": "code",
   "execution_count": null,
   "id": "054a4ec4",
   "metadata": {},
   "outputs": [],
   "source": []
  }
 ],
 "metadata": {
  "kernelspec": {
   "display_name": "Python 3 (ipykernel)",
   "language": "python",
   "name": "python3"
  },
  "language_info": {
   "codemirror_mode": {
    "name": "ipython",
    "version": 3
   },
   "file_extension": ".py",
   "mimetype": "text/x-python",
   "name": "python",
   "nbconvert_exporter": "python",
   "pygments_lexer": "ipython3",
   "version": "3.10.4"
  }
 },
 "nbformat": 4,
 "nbformat_minor": 5
}
