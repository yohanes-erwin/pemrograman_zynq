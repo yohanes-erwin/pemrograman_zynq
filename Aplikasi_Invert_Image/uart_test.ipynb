{
 "cells": [
  {
   "cell_type": "code",
   "execution_count": 1,
   "id": "9c7f4f75-1a67-4c8d-b32d-f89c4949e73c",
   "metadata": {
    "tags": []
   },
   "outputs": [],
   "source": [
    "import serial\n",
    "import serial.tools.list_ports as port_list"
   ]
  },
  {
   "cell_type": "code",
   "execution_count": 2,
   "id": "b2778123-df7c-4a9b-b663-4cc4d8c2e45b",
   "metadata": {
    "tags": []
   },
   "outputs": [
    {
     "name": "stdout",
     "output_type": "stream",
     "text": [
      "COM10\n"
     ]
    }
   ],
   "source": [
    "# menampilkan semua COM port yang tersedia\n",
    "ports = list(port_list.comports())\n",
    "for p in ports:\n",
    "    print(p.device)"
   ]
  },
  {
   "cell_type": "code",
   "execution_count": 3,
   "id": "bef0f5bb-6b1a-478e-abeb-d381348e94cb",
   "metadata": {
    "tags": []
   },
   "outputs": [],
   "source": [
    "# koneksi dengan serial port\n",
    "ser = serial.Serial(port='COM10', baudrate=115200, bytesize=8, timeout=1, stopbits=serial.STOPBITS_ONE)"
   ]
  },
  {
   "cell_type": "code",
   "execution_count": 4,
   "id": "cf6ec503-b05b-4d69-8bfe-837fd4ad1141",
   "metadata": {
    "tags": []
   },
   "outputs": [
    {
     "name": "stdout",
     "output_type": "stream",
     "text": [
      "Message from ZyBo: Hello, Wolrd!\n",
      "\n"
     ]
    }
   ],
   "source": [
    "ser.write(b'Hello, Wolrd!\\n') # send to zybo uart\n",
    "msgRead = ser.readline()  # read from zybo uart\n",
    "msgRead = msgRead.decode('utf-8')\n",
    "print(f'Message from ZyBo: {msgRead}')"
   ]
  },
  {
   "cell_type": "code",
   "execution_count": 5,
   "id": "b5fe0539-3699-43fa-b3f0-16fe37f719a5",
   "metadata": {
    "tags": []
   },
   "outputs": [],
   "source": [
    "ser.close() # jangan lupa close port-nya jika sudah selesai (jika tidak di-close dulu maka tidak bisa di-open lagi)"
   ]
  },
  {
   "cell_type": "code",
   "execution_count": null,
   "id": "45d4b5ef-f6f4-45a1-b6d5-6a23aba48ff2",
   "metadata": {},
   "outputs": [],
   "source": []
  }
 ],
 "metadata": {
  "kernelspec": {
   "display_name": "Python 3 (ipykernel)",
   "language": "python",
   "name": "python3"
  },
  "language_info": {
   "codemirror_mode": {
    "name": "ipython",
    "version": 3
   },
   "file_extension": ".py",
   "mimetype": "text/x-python",
   "name": "python",
   "nbconvert_exporter": "python",
   "pygments_lexer": "ipython3",
   "version": "3.11.5"
  }
 },
 "nbformat": 4,
 "nbformat_minor": 5
}
