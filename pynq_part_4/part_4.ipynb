{
 "cells": [
  {
   "cell_type": "code",
   "execution_count": 1,
   "id": "420872a3",
   "metadata": {},
   "outputs": [
    {
     "data": {
      "application/javascript": [
       "\n",
       "try {\n",
       "require(['notebook/js/codecell'], function(codecell) {\n",
       "  codecell.CodeCell.options_default.highlight_modes[\n",
       "      'magic_text/x-csrc'] = {'reg':[/^%%microblaze/]};\n",
       "  Jupyter.notebook.events.one('kernel_ready.Kernel', function(){\n",
       "      Jupyter.notebook.get_cells().map(function(cell){\n",
       "          if (cell.cell_type == 'code'){ cell.auto_highlight(); } }) ;\n",
       "  });\n",
       "});\n",
       "} catch (e) {};\n"
      ]
     },
     "metadata": {},
     "output_type": "display_data"
    },
    {
     "data": {
      "application/javascript": [
       "\n",
       "try {\n",
       "require(['notebook/js/codecell'], function(codecell) {\n",
       "  codecell.CodeCell.options_default.highlight_modes[\n",
       "      'magic_text/x-csrc'] = {'reg':[/^%%pybind11/]};\n",
       "  Jupyter.notebook.events.one('kernel_ready.Kernel', function(){\n",
       "      Jupyter.notebook.get_cells().map(function(cell){\n",
       "          if (cell.cell_type == 'code'){ cell.auto_highlight(); } }) ;\n",
       "  });\n",
       "});\n",
       "} catch (e) {};\n"
      ]
     },
     "metadata": {},
     "output_type": "display_data"
    }
   ],
   "source": [
    "from pynq import Overlay\n",
    "from pynq import allocate\n",
    "import numpy as np\n",
    "\n",
    "# Program bitstream to FPGA\n",
    "overlay = Overlay('/home/xilinx/design_1.bit')\n",
    "\n",
    "# Access to AXI DMA\n",
    "dma = overlay.axi_dma_0\n",
    "dma_send = overlay.axi_dma_0.sendchannel\n",
    "dma_recv = overlay.axi_dma_0.recvchannel"
   ]
  },
  {
   "cell_type": "code",
   "execution_count": 2,
   "id": "56fadf36",
   "metadata": {},
   "outputs": [],
   "source": [
    "# Allocate physical memory for AXI DMA MM2S\n",
    "input_buffer = allocate(shape=(44,), dtype=np.uint32)"
   ]
  },
  {
   "cell_type": "code",
   "execution_count": 3,
   "id": "fefdf6bc",
   "metadata": {},
   "outputs": [],
   "source": [
    "# Weight and bias\n",
    "input_buffer[0] = 0x0533fb33\n",
    "input_buffer[1] = 0xfacc06cc\n",
    "input_buffer[2] = 0x0000facc\n",
    "input_buffer[3] = 0x00000000\n",
    "\n",
    "input_buffer[4] = 0x02000133\n",
    "input_buffer[5] = 0x040000cc\n",
    "input_buffer[6] = 0x0000fc00\n",
    "input_buffer[7] = 0x00000000\n",
    "\n",
    "input_buffer[8] = 0x00660266\n",
    "input_buffer[9] = 0x06000333\n",
    "input_buffer[10] = 0x0000fc00\n",
    "input_buffer[11] = 0x00000000\n",
    "\n",
    "input_buffer[12] = 0xfb330533\n",
    "input_buffer[13] = 0x0533fa66\n",
    "input_buffer[14] = 0x0000fc66\n",
    "input_buffer[15] = 0x00000000\n",
    "\n",
    "input_buffer[16] = 0x01330533\n",
    "input_buffer[17] = 0x01990200\n",
    "input_buffer[18] = 0x0000fc00\n",
    "input_buffer[19] = 0x00000000\n",
    "\n",
    "input_buffer[20] = 0xfecc14cc\n",
    "input_buffer[21] = 0xf2000333\n",
    "input_buffer[22] = 0xfa000066\n",
    "input_buffer[23] = 0x00000000\n",
    "\n",
    "input_buffer[24] = 0x0066eccc\n",
    "input_buffer[25] = 0x100002cc\n",
    "input_buffer[26] = 0xfa660399\n",
    "input_buffer[27] = 0x00000000\n",
    "\n",
    "# Input\n",
    "input_buffer[28] = 0x1c000800\n",
    "input_buffer[29] = 0x0c001800\n",
    "input_buffer[30] = 0x0c001800\n",
    "input_buffer[31] = 0x00000000\n",
    "\n",
    "input_buffer[32] = 0x08002800\n",
    "input_buffer[33] = 0x28002000\n",
    "input_buffer[34] = 0x08002400\n",
    "input_buffer[35] = 0x00000000\n",
    "\n",
    "input_buffer[36] = 0x0c001400\n",
    "input_buffer[37] = 0x0c000400\n",
    "input_buffer[38] = 0x18001400\n",
    "input_buffer[39] = 0x00000000\n",
    "\n",
    "input_buffer[40] = 0x0c000c00\n",
    "input_buffer[41] = 0x04001800\n",
    "input_buffer[42] = 0x28001800\n",
    "input_buffer[43] = 0x00000000"
   ]
  },
  {
   "cell_type": "code",
   "execution_count": 4,
   "id": "3524b73c",
   "metadata": {},
   "outputs": [
    {
     "name": "stdout",
     "output_type": "stream",
     "text": [
      "0x0533FB33\n",
      "0xFACC06CC\n",
      "0x0000FACC\n",
      "0x00000000\n",
      "0x02000133\n",
      "0x040000CC\n",
      "0x0000FC00\n",
      "0x00000000\n",
      "0x00660266\n",
      "0x06000333\n",
      "0x0000FC00\n",
      "0x00000000\n",
      "0xFB330533\n",
      "0x0533FA66\n",
      "0x0000FC66\n",
      "0x00000000\n",
      "0x01330533\n",
      "0x01990200\n",
      "0x0000FC00\n",
      "0x00000000\n",
      "0xFECC14CC\n",
      "0xF2000333\n",
      "0xFA000066\n",
      "0x00000000\n",
      "0x0066ECCC\n",
      "0x100002CC\n",
      "0xFA660399\n",
      "0x00000000\n",
      "0x1C000800\n",
      "0x0C001800\n",
      "0x0C001800\n",
      "0x00000000\n",
      "0x08002800\n",
      "0x28002000\n",
      "0x08002400\n",
      "0x00000000\n",
      "0x0C001400\n",
      "0x0C000400\n",
      "0x18001400\n",
      "0x00000000\n",
      "0x0C000C00\n",
      "0x04001800\n",
      "0x28001800\n",
      "0x00000000\n"
     ]
    }
   ],
   "source": [
    "# Check the written data\n",
    "for i in range(44):\n",
    "    print(\"0x%08X\" % (input_buffer[i]))"
   ]
  },
  {
   "cell_type": "code",
   "execution_count": 5,
   "id": "989147a5",
   "metadata": {},
   "outputs": [],
   "source": [
    "# Do AXI DMA MM2S transfer\n",
    "dma_send.transfer(input_buffer)"
   ]
  },
  {
   "cell_type": "code",
   "execution_count": 6,
   "id": "c32a3f76",
   "metadata": {},
   "outputs": [],
   "source": [
    "# Allocate physical memory for AXI DMA S2MM\n",
    "output_buffer = allocate(shape=(8,), dtype=np.uint32)"
   ]
  },
  {
   "cell_type": "code",
   "execution_count": 7,
   "id": "df28ba41",
   "metadata": {},
   "outputs": [
    {
     "name": "stdout",
     "output_type": "stream",
     "text": [
      "0x00000000\n",
      "0x00000000\n",
      "0x00000000\n",
      "0x00000000\n",
      "0x00000000\n",
      "0x00000000\n",
      "0x00000000\n",
      "0x00000000\n"
     ]
    }
   ],
   "source": [
    "# Check the memory content\n",
    "for i in range(8):\n",
    "    print(\"0x%08X\" % (output_buffer[i]))"
   ]
  },
  {
   "cell_type": "code",
   "execution_count": 8,
   "id": "1e2176c1",
   "metadata": {},
   "outputs": [],
   "source": [
    "# Do AXI DMA S2MM transfer\n",
    "dma_recv.transfer(output_buffer)"
   ]
  },
  {
   "cell_type": "code",
   "execution_count": 9,
   "id": "16f05b2d",
   "metadata": {},
   "outputs": [
    {
     "name": "stdout",
     "output_type": "stream",
     "text": [
      "0x000B03F1\n",
      "0x03F1000E\n",
      "0x000C03ED\n",
      "0x00000000\n",
      "0x03F1000A\n",
      "0x000A03EF\n",
      "0x03F0000E\n",
      "0x00000000\n"
     ]
    }
   ],
   "source": [
    "# Check the memory content after DMA transfer\n",
    "for i in range(8):\n",
    "    print(\"0x%08X\" % (output_buffer[i]))"
   ]
  },
  {
   "cell_type": "code",
   "execution_count": 10,
   "id": "f5c6a00a",
   "metadata": {},
   "outputs": [],
   "source": [
    "# Output\n",
    "pred_hw = np.zeros((2,6))\n",
    "\n",
    "pred_hw[0][0] = ((output_buffer[0] & 0x0000FFFF) / 1024.0)\n",
    "pred_hw[0][1] = (((output_buffer[0] & 0xFFFF0000) >> 16) / 1024.0)\n",
    "pred_hw[0][2] = ((output_buffer[1] & 0x0000FFFF) / 1024.0)\n",
    "pred_hw[0][3] = (((output_buffer[1] & 0xFFFF0000) >> 16) / 1024.0)\n",
    "pred_hw[0][4] = ((output_buffer[2] & 0x0000FFFF) / 1024.0)\n",
    "pred_hw[0][5] = (((output_buffer[2] & 0xFFFF0000) >> 16) / 1024.0)\n",
    "\n",
    "pred_hw[1][0] = ((output_buffer[4] & 0x0000FFFF) / 1024.0)\n",
    "pred_hw[1][1] = (((output_buffer[4] & 0xFFFF0000) >> 16) / 1024.0)\n",
    "pred_hw[1][2] = ((output_buffer[5] & 0x0000FFFF) / 1024.0)\n",
    "pred_hw[1][3] = (((output_buffer[5] & 0xFFFF0000) >> 16) / 1024.0)\n",
    "pred_hw[1][4] = ((output_buffer[6] & 0x0000FFFF) / 1024.0)\n",
    "pred_hw[1][5] = (((output_buffer[6] & 0xFFFF0000) >> 16) / 1024.0)"
   ]
  },
  {
   "cell_type": "code",
   "execution_count": 11,
   "id": "5e6bddd3",
   "metadata": {},
   "outputs": [
    {
     "data": {
      "text/plain": [
       "array([[0.98535156, 0.01074219, 0.01367188, 0.98535156, 0.98144531,\n",
       "        0.01171875],\n",
       "       [0.00976562, 0.98535156, 0.98339844, 0.00976562, 0.01367188,\n",
       "        0.984375  ]])"
      ]
     },
     "execution_count": 11,
     "metadata": {},
     "output_type": "execute_result"
    }
   ],
   "source": [
    "# Prediction\n",
    "pred_hw"
   ]
  },
  {
   "cell_type": "code",
   "execution_count": 12,
   "id": "cc524876",
   "metadata": {},
   "outputs": [
    {
     "data": {
      "text/plain": [
       "array([[1., 0., 0., 1., 1., 0.],\n",
       "       [0., 1., 1., 0., 0., 1.]])"
      ]
     },
     "execution_count": 12,
     "metadata": {},
     "output_type": "execute_result"
    }
   ],
   "source": [
    "# Rounding\n",
    "np.round(pred_hw)"
   ]
  },
  {
   "cell_type": "code",
   "execution_count": 13,
   "id": "7b703780",
   "metadata": {},
   "outputs": [],
   "source": [
    "# Delete buffer to prevent memory leak\n",
    "del input_buffer, output_buffer"
   ]
  },
  {
   "cell_type": "code",
   "execution_count": null,
   "id": "38ce3d28",
   "metadata": {},
   "outputs": [],
   "source": []
  }
 ],
 "metadata": {
  "kernelspec": {
   "display_name": "Python 3 (ipykernel)",
   "language": "python",
   "name": "python3"
  },
  "language_info": {
   "codemirror_mode": {
    "name": "ipython",
    "version": 3
   },
   "file_extension": ".py",
   "mimetype": "text/x-python",
   "name": "python",
   "nbconvert_exporter": "python",
   "pygments_lexer": "ipython3",
   "version": "3.10.4"
  }
 },
 "nbformat": 4,
 "nbformat_minor": 5
}
