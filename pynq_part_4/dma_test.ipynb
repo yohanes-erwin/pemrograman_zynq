{
 "cells": [
  {
   "cell_type": "code",
   "execution_count": 1,
   "id": "928659b7",
   "metadata": {},
   "outputs": [],
   "source": [
    "from pynq import Overlay\n",
    "from pynq import allocate\n",
    "import numpy as np"
   ]
  },
  {
   "cell_type": "code",
   "execution_count": 2,
   "id": "5bbbb8aa",
   "metadata": {},
   "outputs": [
    {
     "data": {
      "application/javascript": [
       "\n",
       "try {\n",
       "require(['notebook/js/codecell'], function(codecell) {\n",
       "  codecell.CodeCell.options_default.highlight_modes[\n",
       "      'magic_text/x-csrc'] = {'reg':[/^%%microblaze/]};\n",
       "  Jupyter.notebook.events.one('kernel_ready.Kernel', function(){\n",
       "      Jupyter.notebook.get_cells().map(function(cell){\n",
       "          if (cell.cell_type == 'code'){ cell.auto_highlight(); } }) ;\n",
       "  });\n",
       "});\n",
       "} catch (e) {};\n"
      ]
     },
     "metadata": {},
     "output_type": "display_data"
    },
    {
     "data": {
      "application/javascript": [
       "\n",
       "try {\n",
       "require(['notebook/js/codecell'], function(codecell) {\n",
       "  codecell.CodeCell.options_default.highlight_modes[\n",
       "      'magic_text/x-csrc'] = {'reg':[/^%%pybind11/]};\n",
       "  Jupyter.notebook.events.one('kernel_ready.Kernel', function(){\n",
       "      Jupyter.notebook.get_cells().map(function(cell){\n",
       "          if (cell.cell_type == 'code'){ cell.auto_highlight(); } }) ;\n",
       "  });\n",
       "});\n",
       "} catch (e) {};\n"
      ]
     },
     "metadata": {},
     "output_type": "display_data"
    }
   ],
   "source": [
    "# Program bitstream to FPGA\n",
    "overlay = Overlay('/home/ubuntu/workspace/dma_128.bit')"
   ]
  },
  {
   "cell_type": "code",
   "execution_count": 3,
   "id": "e297dc2c",
   "metadata": {},
   "outputs": [],
   "source": [
    "# Access to AXI DMA\n",
    "dma = overlay.axi_dma_0\n",
    "dma_send = overlay.axi_dma_0.sendchannel\n",
    "dma_recv = overlay.axi_dma_0.recvchannel"
   ]
  },
  {
   "cell_type": "code",
   "execution_count": 4,
   "id": "f77b2c49",
   "metadata": {},
   "outputs": [],
   "source": [
    "# Allocate physical memory for AXI DMA MM2S\n",
    "input_buffer = allocate(shape=(7,), dtype=np.uint32)"
   ]
  },
  {
   "cell_type": "code",
   "execution_count": 5,
   "id": "0b177c48",
   "metadata": {},
   "outputs": [],
   "source": [
    "# Input\n",
    "input_buffer[0] = 0x057A057A\n",
    "input_buffer[1] = 0x03E10314\n",
    "input_buffer[2] = 0x028F0433\n",
    "input_buffer[3] = 0xFAC21C70\n",
    "input_buffer[4] = 0x0685E399\n",
    "input_buffer[5] = 0x20002000\n",
    "input_buffer[6] = 0x14002000"
   ]
  },
  {
   "cell_type": "code",
   "execution_count": 6,
   "id": "56646d72",
   "metadata": {},
   "outputs": [
    {
     "name": "stdout",
     "output_type": "stream",
     "text": [
      "0x057A057A\n",
      "0x03E10314\n",
      "0x028F0433\n",
      "0xFAC21C70\n",
      "0x0685E399\n",
      "0x20002000\n",
      "0x14002000\n"
     ]
    }
   ],
   "source": [
    "# Check the written data\n",
    "for i in range(7):\n",
    "    print(\"0x%08X\" % (input_buffer[i]))"
   ]
  },
  {
   "cell_type": "code",
   "execution_count": 7,
   "id": "55120cca",
   "metadata": {},
   "outputs": [],
   "source": [
    "# Do AXI DMA MM2S transfer\n",
    "dma_send.transfer(input_buffer)"
   ]
  },
  {
   "cell_type": "code",
   "execution_count": 8,
   "id": "0ca74913",
   "metadata": {},
   "outputs": [],
   "source": [
    "# Allocate physical memory for AXI DMA S2MM\n",
    "output_buffer = allocate(shape=(7,), dtype=np.uint32)"
   ]
  },
  {
   "cell_type": "code",
   "execution_count": 9,
   "id": "77450dfc",
   "metadata": {},
   "outputs": [
    {
     "name": "stdout",
     "output_type": "stream",
     "text": [
      "0x00000000\n",
      "0x00000000\n",
      "0x00000000\n",
      "0x00000000\n",
      "0x00000000\n",
      "0x00000000\n",
      "0x00000000\n"
     ]
    }
   ],
   "source": [
    "# Check the memory content\n",
    "for i in range(7):\n",
    "    print(\"0x%08X\" % (output_buffer[i]))"
   ]
  },
  {
   "cell_type": "code",
   "execution_count": 10,
   "id": "6fbf9f3b",
   "metadata": {},
   "outputs": [],
   "source": [
    "# Do AXI DMA S2MM transfer\n",
    "dma_recv.transfer(output_buffer)"
   ]
  },
  {
   "cell_type": "code",
   "execution_count": 11,
   "id": "77261e9f",
   "metadata": {},
   "outputs": [
    {
     "name": "stdout",
     "output_type": "stream",
     "text": [
      "0x057A057A\n",
      "0x03E10314\n",
      "0x028F0433\n",
      "0xFAC21C70\n",
      "0x0685E399\n",
      "0x20002000\n",
      "0x14002000\n"
     ]
    }
   ],
   "source": [
    "# Check the memory content after DMA transfer\n",
    "for i in range(7):\n",
    "    print(\"0x%08X\" % (output_buffer[i]))"
   ]
  },
  {
   "cell_type": "code",
   "execution_count": 12,
   "id": "cab8a405",
   "metadata": {},
   "outputs": [
    {
     "name": "stdout",
     "output_type": "stream",
     "text": [
      "Arrays are equal: True\n"
     ]
    }
   ],
   "source": [
    "# Compare arrays\n",
    "print(\"Arrays are equal: {}\".format(np.array_equal(input_buffer, output_buffer)))"
   ]
  },
  {
   "cell_type": "code",
   "execution_count": 13,
   "id": "acaac97e",
   "metadata": {},
   "outputs": [],
   "source": [
    "# Delete buffer to prevent memory leak\n",
    "del input_buffer, output_buffer"
   ]
  },
  {
   "cell_type": "code",
   "execution_count": null,
   "id": "085eff50",
   "metadata": {},
   "outputs": [],
   "source": []
  }
 ],
 "metadata": {
  "kernelspec": {
   "display_name": "Python 3 (ipykernel)",
   "language": "python",
   "name": "python3"
  },
  "language_info": {
   "codemirror_mode": {
    "name": "ipython",
    "version": 3
   },
   "file_extension": ".py",
   "mimetype": "text/x-python",
   "name": "python",
   "nbconvert_exporter": "python",
   "pygments_lexer": "ipython3",
   "version": "3.10.12"
  }
 },
 "nbformat": 4,
 "nbformat_minor": 5
}
