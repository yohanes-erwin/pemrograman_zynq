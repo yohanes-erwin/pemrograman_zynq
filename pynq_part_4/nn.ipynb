{
 "cells": [
  {
   "cell_type": "code",
   "execution_count": 1,
   "id": "63316cc1",
   "metadata": {},
   "outputs": [],
   "source": [
    "from pynq import Overlay\n",
    "from pynq import allocate\n",
    "import numpy as np"
   ]
  },
  {
   "cell_type": "code",
   "execution_count": 2,
   "id": "b96cf956",
   "metadata": {},
   "outputs": [
    {
     "data": {
      "application/javascript": [
       "\n",
       "try {\n",
       "require(['notebook/js/codecell'], function(codecell) {\n",
       "  codecell.CodeCell.options_default.highlight_modes[\n",
       "      'magic_text/x-csrc'] = {'reg':[/^%%microblaze/]};\n",
       "  Jupyter.notebook.events.one('kernel_ready.Kernel', function(){\n",
       "      Jupyter.notebook.get_cells().map(function(cell){\n",
       "          if (cell.cell_type == 'code'){ cell.auto_highlight(); } }) ;\n",
       "  });\n",
       "});\n",
       "} catch (e) {};\n"
      ]
     },
     "metadata": {},
     "output_type": "display_data"
    },
    {
     "data": {
      "application/javascript": [
       "\n",
       "try {\n",
       "require(['notebook/js/codecell'], function(codecell) {\n",
       "  codecell.CodeCell.options_default.highlight_modes[\n",
       "      'magic_text/x-csrc'] = {'reg':[/^%%pybind11/]};\n",
       "  Jupyter.notebook.events.one('kernel_ready.Kernel', function(){\n",
       "      Jupyter.notebook.get_cells().map(function(cell){\n",
       "          if (cell.cell_type == 'code'){ cell.auto_highlight(); } }) ;\n",
       "  });\n",
       "});\n",
       "} catch (e) {};\n"
      ]
     },
     "metadata": {},
     "output_type": "display_data"
    }
   ],
   "source": [
    "# Program bitstream to FPGA\n",
    "overlay = Overlay('/home/xilinx/workspace/nn.bit')"
   ]
  },
  {
   "cell_type": "code",
   "execution_count": 3,
   "id": "cf6c0c56",
   "metadata": {},
   "outputs": [],
   "source": [
    "# Access to AXI DMA\n",
    "dma = overlay.axi_dma_0\n",
    "dma_send = overlay.axi_dma_0.sendchannel\n",
    "dma_recv = overlay.axi_dma_0.recvchannel"
   ]
  },
  {
   "cell_type": "code",
   "execution_count": 4,
   "id": "62491320",
   "metadata": {},
   "outputs": [],
   "source": [
    "# Allocate physical memory for AXI DMA MM2S\n",
    "input_buffer = allocate(shape=(14,), dtype=np.uint32)"
   ]
  },
  {
   "cell_type": "code",
   "execution_count": 5,
   "id": "6f32a1a9",
   "metadata": {},
   "outputs": [],
   "source": [
    "# Weight and bias\n",
    "input_buffer[0] = 0x057A057A\n",
    "input_buffer[1] = 0x0000B07A\n",
    "\n",
    "input_buffer[2] = 0x03E10314\n",
    "input_buffer[3] = 0x0000FC66\n",
    "\n",
    "input_buffer[4] = 0x028F0433\n",
    "input_buffer[5] = 0x0000FC70\n",
    "\n",
    "input_buffer[6] = 0xFAC21C70\n",
    "input_buffer[7] = 0xF5A30051\n",
    "\n",
    "input_buffer[8] = 0x0685E399\n",
    "input_buffer[9] = 0x00CC07E1\n",
    "\n",
    "# Input\n",
    "input_buffer[10] = 0x20002000\n",
    "input_buffer[11] = 0x14001400\n",
    "\n",
    "input_buffer[12] = 0x14002000\n",
    "input_buffer[13] = 0x14002000"
   ]
  },
  {
   "cell_type": "code",
   "execution_count": 6,
   "id": "643264be",
   "metadata": {},
   "outputs": [
    {
     "name": "stdout",
     "output_type": "stream",
     "text": [
      "0x057A057A\n",
      "0x0000B07A\n",
      "0x03E10314\n",
      "0x0000FC66\n",
      "0x028F0433\n",
      "0x0000FC70\n",
      "0xFAC21C70\n",
      "0xF5A30051\n",
      "0x0685E399\n",
      "0x00CC07E1\n",
      "0x20002000\n",
      "0x14001400\n",
      "0x14002000\n",
      "0x14002000\n"
     ]
    }
   ],
   "source": [
    "# Check the written data\n",
    "for i in range(14):\n",
    "    print(\"0x%08X\" % (input_buffer[i]))"
   ]
  },
  {
   "cell_type": "code",
   "execution_count": 7,
   "id": "ea00a16b",
   "metadata": {},
   "outputs": [],
   "source": [
    "# Do AXI DMA MM2S transfer\n",
    "dma_send.transfer(input_buffer)"
   ]
  },
  {
   "cell_type": "code",
   "execution_count": 8,
   "id": "3fd90f3a",
   "metadata": {},
   "outputs": [],
   "source": [
    "# Allocate physical memory for AXI DMA S2MM\n",
    "output_buffer = allocate(shape=(4,), dtype=np.uint32)"
   ]
  },
  {
   "cell_type": "code",
   "execution_count": 9,
   "id": "9bc5410a",
   "metadata": {},
   "outputs": [
    {
     "name": "stdout",
     "output_type": "stream",
     "text": [
      "0x00000000\n",
      "0x00000000\n",
      "0x00000000\n",
      "0x00000000\n"
     ]
    }
   ],
   "source": [
    "# Check the memory content\n",
    "for i in range(4):\n",
    "    print(\"0x%08X\" % (output_buffer[i]))"
   ]
  },
  {
   "cell_type": "code",
   "execution_count": 10,
   "id": "de03f89b",
   "metadata": {},
   "outputs": [],
   "source": [
    "# Do AXI DMA S2MM transfer\n",
    "dma_recv.transfer(output_buffer)"
   ]
  },
  {
   "cell_type": "code",
   "execution_count": 11,
   "id": "4d69e869",
   "metadata": {},
   "outputs": [
    {
     "name": "stdout",
     "output_type": "stream",
     "text": [
      "0x002B03A8\n",
      "0x0014002B\n",
      "0x03CF004D\n",
      "0x03E803CF\n"
     ]
    }
   ],
   "source": [
    "# Check the memory content after DMA transfer\n",
    "for i in range(4):\n",
    "    print(\"0x%08X\" % (output_buffer[i]))"
   ]
  },
  {
   "cell_type": "code",
   "execution_count": 12,
   "id": "e64e8728",
   "metadata": {},
   "outputs": [],
   "source": [
    "# Output\n",
    "pred_hw = np.zeros((2,4))\n",
    "\n",
    "pred_hw[0][0] = ((output_buffer[0] & 0x0000FFFF) / 1024.0)\n",
    "pred_hw[0][1] = (((output_buffer[0] & 0xFFFF0000) >> 16) / 1024.0)\n",
    "pred_hw[0][2] = ((output_buffer[1] & 0x0000FFFF) / 1024.0)\n",
    "pred_hw[0][3] = (((output_buffer[1] & 0xFFFF0000) >> 16) / 1024.0)\n",
    "\n",
    "pred_hw[1][0] = ((output_buffer[2] & 0x0000FFFF) / 1024.0)\n",
    "pred_hw[1][1] = (((output_buffer[2] & 0xFFFF0000) >> 16) / 1024.0)\n",
    "pred_hw[1][2] = ((output_buffer[3] & 0x0000FFFF) / 1024.0)\n",
    "pred_hw[1][3] = (((output_buffer[3] & 0xFFFF0000) >> 16) / 1024.0)"
   ]
  },
  {
   "cell_type": "code",
   "execution_count": 13,
   "id": "88dd9260",
   "metadata": {},
   "outputs": [
    {
     "data": {
      "text/plain": [
       "array([[0.9140625 , 0.04199219, 0.04199219, 0.01953125],\n",
       "       [0.07519531, 0.95214844, 0.95214844, 0.9765625 ]])"
      ]
     },
     "execution_count": 13,
     "metadata": {},
     "output_type": "execute_result"
    }
   ],
   "source": [
    "# Prediction\n",
    "pred_hw"
   ]
  },
  {
   "cell_type": "code",
   "execution_count": 14,
   "id": "88cefa94",
   "metadata": {},
   "outputs": [
    {
     "data": {
      "text/plain": [
       "array([[1., 0., 0., 0.],\n",
       "       [0., 1., 1., 1.]])"
      ]
     },
     "execution_count": 14,
     "metadata": {},
     "output_type": "execute_result"
    }
   ],
   "source": [
    "# Rounding\n",
    "np.round(pred_hw)"
   ]
  },
  {
   "cell_type": "code",
   "execution_count": 15,
   "id": "a9f1bc32",
   "metadata": {},
   "outputs": [],
   "source": [
    "# Delete buffer to prevent memory leak\n",
    "del input_buffer, output_buffer"
   ]
  },
  {
   "cell_type": "code",
   "execution_count": null,
   "id": "e7c847d3",
   "metadata": {},
   "outputs": [],
   "source": []
  }
 ],
 "metadata": {
  "kernelspec": {
   "display_name": "Python 3 (ipykernel)",
   "language": "python",
   "name": "python3"
  },
  "language_info": {
   "codemirror_mode": {
    "name": "ipython",
    "version": 3
   },
   "file_extension": ".py",
   "mimetype": "text/x-python",
   "name": "python",
   "nbconvert_exporter": "python",
   "pygments_lexer": "ipython3",
   "version": "3.10.4"
  }
 },
 "nbformat": 4,
 "nbformat_minor": 5
}
