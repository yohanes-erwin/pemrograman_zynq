{
 "cells": [
  {
   "cell_type": "code",
   "execution_count": 1,
   "id": "8c1486cd",
   "metadata": {},
   "outputs": [
    {
     "data": {
      "application/javascript": [
       "\n",
       "try {\n",
       "require(['notebook/js/codecell'], function(codecell) {\n",
       "  codecell.CodeCell.options_default.highlight_modes[\n",
       "      'magic_text/x-csrc'] = {'reg':[/^%%microblaze/]};\n",
       "  Jupyter.notebook.events.one('kernel_ready.Kernel', function(){\n",
       "      Jupyter.notebook.get_cells().map(function(cell){\n",
       "          if (cell.cell_type == 'code'){ cell.auto_highlight(); } }) ;\n",
       "  });\n",
       "});\n",
       "} catch (e) {};\n"
      ]
     },
     "metadata": {},
     "output_type": "display_data"
    },
    {
     "data": {
      "application/javascript": [
       "\n",
       "try {\n",
       "require(['notebook/js/codecell'], function(codecell) {\n",
       "  codecell.CodeCell.options_default.highlight_modes[\n",
       "      'magic_text/x-csrc'] = {'reg':[/^%%pybind11/]};\n",
       "  Jupyter.notebook.events.one('kernel_ready.Kernel', function(){\n",
       "      Jupyter.notebook.get_cells().map(function(cell){\n",
       "          if (cell.cell_type == 'code'){ cell.auto_highlight(); } }) ;\n",
       "  });\n",
       "});\n",
       "} catch (e) {};\n"
      ]
     },
     "metadata": {},
     "output_type": "display_data"
    }
   ],
   "source": [
    "from pynq import Overlay\n",
    "from pynq import allocate\n",
    "import numpy as np\n",
    "from time import time\n",
    "\n",
    "# Program bitstream to FPGA\n",
    "overlay = Overlay('/home/xilinx/design_1.bit')\n",
    "\n",
    "# Access to AXI DMA\n",
    "dma = overlay.axi_dma_0\n",
    "dma_send = overlay.axi_dma_0.sendchannel\n",
    "dma_recv = overlay.axi_dma_0.recvchannel"
   ]
  },
  {
   "cell_type": "code",
   "execution_count": 2,
   "id": "535737b5",
   "metadata": {},
   "outputs": [],
   "source": [
    "# Allocate physical memory\n",
    "input_buffer = allocate(shape=(44,), dtype=np.uint32)\n",
    "output_buffer = allocate(shape=(8,), dtype=np.uint32)"
   ]
  },
  {
   "cell_type": "code",
   "execution_count": 3,
   "id": "071ff1f6",
   "metadata": {},
   "outputs": [
    {
     "name": "stdout",
     "output_type": "stream",
     "text": [
      "Time used for HW ANN: 424.38378167152405s\n"
     ]
    }
   ],
   "source": [
    "# Measure the time required for HW ANN\n",
    "t1 = time()\n",
    "# Weight and bias\n",
    "input_buffer[0] = 0x0533fb33\n",
    "input_buffer[1] = 0xfacc06cc\n",
    "input_buffer[2] = 0x0000facc\n",
    "input_buffer[3] = 0x00000000\n",
    "input_buffer[4] = 0x02000133\n",
    "input_buffer[5] = 0x040000cc\n",
    "input_buffer[6] = 0x0000fc00\n",
    "input_buffer[7] = 0x00000000\n",
    "input_buffer[8] = 0x00660266\n",
    "input_buffer[9] = 0x06000333\n",
    "input_buffer[10] = 0x0000fc00\n",
    "input_buffer[11] = 0x00000000\n",
    "input_buffer[12] = 0xfb330533\n",
    "input_buffer[13] = 0x0533fa66\n",
    "input_buffer[14] = 0x0000fc66\n",
    "input_buffer[15] = 0x00000000\n",
    "input_buffer[16] = 0x01330533\n",
    "input_buffer[17] = 0x01990200\n",
    "input_buffer[18] = 0x0000fc00\n",
    "input_buffer[19] = 0x00000000\n",
    "input_buffer[20] = 0xfecc14cc\n",
    "input_buffer[21] = 0xf2000333\n",
    "input_buffer[22] = 0xfa000066\n",
    "input_buffer[23] = 0x00000000\n",
    "input_buffer[24] = 0x0066eccc\n",
    "input_buffer[25] = 0x100002cc\n",
    "input_buffer[26] = 0xfa660399\n",
    "input_buffer[27] = 0x00000000\n",
    "# Input\n",
    "input_buffer[28] = 0x1c000800\n",
    "input_buffer[29] = 0x0c001800\n",
    "input_buffer[30] = 0x0c001800\n",
    "input_buffer[31] = 0x00000000\n",
    "input_buffer[32] = 0x08002800\n",
    "input_buffer[33] = 0x28002000\n",
    "input_buffer[34] = 0x08002400\n",
    "input_buffer[35] = 0x00000000\n",
    "input_buffer[36] = 0x0c001400\n",
    "input_buffer[37] = 0x0c000400\n",
    "input_buffer[38] = 0x18001400\n",
    "input_buffer[39] = 0x00000000\n",
    "input_buffer[40] = 0x0c000c00\n",
    "input_buffer[41] = 0x04001800\n",
    "input_buffer[42] = 0x28001800\n",
    "input_buffer[43] = 0x00000000\n",
    "for i in range(1000000):\n",
    "    # Do AXI DMA MM2S transfer\n",
    "    dma_send.transfer(input_buffer)\n",
    "    # Do AXI DMA S2MM transfer\n",
    "    dma_recv.transfer(output_buffer)\n",
    "# Output\n",
    "pred_hw = np.zeros((2,6))\n",
    "pred_hw[0][0] = ((output_buffer[0] & 0x0000FFFF) / 1024.0)\n",
    "pred_hw[0][1] = (((output_buffer[0] & 0xFFFF0000) >> 16) / 1024.0)\n",
    "pred_hw[0][2] = ((output_buffer[1] & 0x0000FFFF) / 1024.0)\n",
    "pred_hw[0][3] = (((output_buffer[1] & 0xFFFF0000) >> 16) / 1024.0)\n",
    "pred_hw[0][4] = ((output_buffer[2] & 0x0000FFFF) / 1024.0)\n",
    "pred_hw[0][5] = (((output_buffer[2] & 0xFFFF0000) >> 16) / 1024.0)\n",
    "pred_hw[1][0] = ((output_buffer[4] & 0x0000FFFF) / 1024.0)\n",
    "pred_hw[1][1] = (((output_buffer[4] & 0xFFFF0000) >> 16) / 1024.0)\n",
    "pred_hw[1][2] = ((output_buffer[5] & 0x0000FFFF) / 1024.0)\n",
    "pred_hw[1][3] = (((output_buffer[5] & 0xFFFF0000) >> 16) / 1024.0)\n",
    "pred_hw[1][4] = ((output_buffer[6] & 0x0000FFFF) / 1024.0)\n",
    "pred_hw[1][5] = (((output_buffer[6] & 0xFFFF0000) >> 16) / 1024.0)\n",
    "t2 = time()\n",
    "t_diff = t2 - t1\n",
    "print('Time used for HW ANN: {}s'.format(t_diff))"
   ]
  },
  {
   "cell_type": "code",
   "execution_count": 4,
   "id": "085e6025",
   "metadata": {},
   "outputs": [
    {
     "data": {
      "text/plain": [
       "array([[1., 0., 0., 1., 1., 0.],\n",
       "       [0., 1., 1., 0., 0., 1.]])"
      ]
     },
     "execution_count": 4,
     "metadata": {},
     "output_type": "execute_result"
    }
   ],
   "source": [
    "# Check prediction\n",
    "np.round(pred_hw)"
   ]
  },
  {
   "cell_type": "code",
   "execution_count": 5,
   "id": "668ca570",
   "metadata": {},
   "outputs": [
    {
     "name": "stdout",
     "output_type": "stream",
     "text": [
      "Time used for SW ANN: 504.0776844024658s\n"
     ]
    }
   ],
   "source": [
    "# Measure the time required for SW ANN\n",
    "t1 = time()\n",
    "k = np.array([[ 2, 7, 6,  3, 6,  3],\n",
    "              [10, 2, 8, 10, 9,  2],\n",
    "              [ 5, 3, 1,  3, 5,  6],\n",
    "              [ 3, 3, 6,  1, 6, 10]])\n",
    "wb2 = np.array([[-1.2,  1.3,  1.7, -1.3, -1.3],\n",
    "                [ 0.3,  0.5,  0.2,  1.0, -1.0],\n",
    "                [ 0.6,  0.1,  0.8,  1.5, -1.0],\n",
    "                [ 1.3, -1.2, -1.4,  1.3, -0.9],\n",
    "                [ 1.3,  0.3,  0.5,  0.4, -1.0]])\n",
    "wb3 = np.array([[ 5.2, -0.3, 0.8, -3.5, 0.1, -1.5],\n",
    "                [-4.8,  0.1, 0.7,  4.0, 0.9, -1.4]])\n",
    "for i in range(1000000):\n",
    "    k_padded = np.concatenate((k, np.array([[1, 1, 1, 1, 1, 1]])), axis=0)\n",
    "    z2 = np.matmul(wb2, k_padded)\n",
    "    a2 = 1/(1+np.exp(-z2))\n",
    "    a2_padded = np.concatenate((a2, np.array([[1, 1, 1, 1, 1, 1]])), axis=0)\n",
    "    z3 = np.matmul(wb3, a2_padded)\n",
    "    a3 = 1/(1+np.exp(-z3))\n",
    "t2 = time()\n",
    "t_diff = t2 - t1\n",
    "print('Time used for SW ANN: {}s'.format(t_diff))"
   ]
  },
  {
   "cell_type": "code",
   "execution_count": 6,
   "id": "34efa493",
   "metadata": {},
   "outputs": [
    {
     "data": {
      "text/plain": [
       "array([[1., 0., 0., 1., 1., 0.],\n",
       "       [0., 1., 1., 0., 0., 1.]])"
      ]
     },
     "execution_count": 6,
     "metadata": {},
     "output_type": "execute_result"
    }
   ],
   "source": [
    "# Check prediction\n",
    "np.round(a3)"
   ]
  },
  {
   "cell_type": "code",
   "execution_count": null,
   "id": "744a2de7",
   "metadata": {},
   "outputs": [],
   "source": []
  }
 ],
 "metadata": {
  "kernelspec": {
   "display_name": "Python 3 (ipykernel)",
   "language": "python",
   "name": "python3"
  },
  "language_info": {
   "codemirror_mode": {
    "name": "ipython",
    "version": 3
   },
   "file_extension": ".py",
   "mimetype": "text/x-python",
   "name": "python",
   "nbconvert_exporter": "python",
   "pygments_lexer": "ipython3",
   "version": "3.10.4"
  }
 },
 "nbformat": 4,
 "nbformat_minor": 5
}
